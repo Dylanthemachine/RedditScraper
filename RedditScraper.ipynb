{
  "nbformat": 4,
  "nbformat_minor": 0,
  "metadata": {
    "colab": {
      "name": "RedditScraper",
      "provenance": [],
      "collapsed_sections": []
    },
    "kernelspec": {
      "name": "python3",
      "display_name": "Python 3"
    },
    "language_info": {
      "name": "python"
    }
  },
  "cells": [
    {
      "cell_type": "code",
      "metadata": {
        "id": "jGGVRVuMMJuA"
      },
      "source": [
        "!pip install praw"
      ],
      "execution_count": null,
      "outputs": []
    },
    {
      "cell_type": "code",
      "metadata": {
        "id": "uCqIdQQvMTNn"
      },
      "source": [
        "import praw\n",
        "import pandas as pd\n",
        "from google.colab import files\n",
        "from datetime import datetime\n",
        "import re\n",
        "\n",
        "## Auth into reddit JiuJitsuBot69\n",
        "reddit = praw.Reddit(client_id='eBd-cBwhutMNHCQ1brlBYg', \n",
        "client_secret='Z26MQ7TmEt9hU8K_54ti8Uyqj1IHng', \n",
        "user_agent='WebScraping', check_for_async=False)\n",
        "\n",
        "## Defines functions\n",
        "\n",
        "## searches subreddits for hot posts. \n",
        "def searchSubReddit(subReddit,postLimit,updateList):\n",
        "  subReddit = reddit.subreddit(subReddit)\n",
        "  try:\n",
        "    for post in subReddit.hot(limit=postLimit):\n",
        "      updateList.append([post.title, post.score, post.id, post.subreddit, post.url, post.num_comments, post.selftext])\n",
        "  except:\n",
        "    print(\"error searching subreddit \"+subReddit)\n",
        "\n",
        "## exports a csv with all the hot posts\n",
        "def exportToCsv(postList, name):\n",
        "  now=datetime.now()\n",
        "  dt_string = str(now.strftime(\"%d%m%Y%H%M%S\"))\n",
        "  title = str(name)+dt_string+\".csv\"\n",
        "  postList = pd.DataFrame(posts,columns=['title', 'score', 'id', 'subreddit', 'url', 'num_comments', 'body'])\n",
        "  try:\n",
        "    postList.to_csv(title)\n",
        "    files.download(title)\n",
        "  except:\n",
        "    print('cannot download csv')\n",
        "\n",
        "## This function searches the titles of each reddit post and matches a technique to the title. if it exists, it will print out the URL\n",
        "def searchTitles(technique, listResponse):\n",
        "  for i in range(len(listResponse)):\n",
        "    x = re.search(technique.lower(),str(posts[i][0]).lower())\n",
        "\n",
        "    if x: \n",
        "      print(\"The link has \"+technique + \": \" + str(posts[i][4]))"
      ],
      "execution_count": 84,
      "outputs": []
    },
    {
      "cell_type": "code",
      "metadata": {
        "colab": {
          "base_uri": "https://localhost:8080/",
          "height": 33
        },
        "id": "_zeJPA3JycI0",
        "outputId": "8d1db540-24b8-4f93-a0b7-418588dddbf0"
      },
      "source": [
        "technique = \"takedown\" #@param {type:\"string\"}\n",
        "posts = []\n",
        "\n",
        "## searches the three grappling subreddits for the hot 20 posts\n",
        "searchSubReddit(\"Judo\",20,posts)\n",
        "searchSubReddit(\"sambo\",20,posts)\n",
        "searchSubReddit(\"BJJ\",20,posts)\n",
        "\n",
        "## Searches for the technique\n",
        "searchTitles(technique,posts)\n",
        "\n",
        "## Saves all the searches to my downloads with the name of the technique+timestamp\n",
        "exportToCsv(posts,technique)"
      ],
      "execution_count": 86,
      "outputs": [
        {
          "output_type": "stream",
          "name": "stdout",
          "text": [
            "The link has takedown: https://www.reddit.com/r/sambo/comments/q14sta/takedown_into_painful_hold_question/\n"
          ]
        },
        {
          "output_type": "display_data",
          "data": {
            "application/javascript": [
              "\n",
              "    async function download(id, filename, size) {\n",
              "      if (!google.colab.kernel.accessAllowed) {\n",
              "        return;\n",
              "      }\n",
              "      const div = document.createElement('div');\n",
              "      const label = document.createElement('label');\n",
              "      label.textContent = `Downloading \"${filename}\": `;\n",
              "      div.appendChild(label);\n",
              "      const progress = document.createElement('progress');\n",
              "      progress.max = size;\n",
              "      div.appendChild(progress);\n",
              "      document.body.appendChild(div);\n",
              "\n",
              "      const buffers = [];\n",
              "      let downloaded = 0;\n",
              "\n",
              "      const channel = await google.colab.kernel.comms.open(id);\n",
              "      // Send a message to notify the kernel that we're ready.\n",
              "      channel.send({})\n",
              "\n",
              "      for await (const message of channel.messages) {\n",
              "        // Send a message to notify the kernel that we're ready.\n",
              "        channel.send({})\n",
              "        if (message.buffers) {\n",
              "          for (const buffer of message.buffers) {\n",
              "            buffers.push(buffer);\n",
              "            downloaded += buffer.byteLength;\n",
              "            progress.value = downloaded;\n",
              "          }\n",
              "        }\n",
              "      }\n",
              "      const blob = new Blob(buffers, {type: 'application/binary'});\n",
              "      const a = document.createElement('a');\n",
              "      a.href = window.URL.createObjectURL(blob);\n",
              "      a.download = filename;\n",
              "      div.appendChild(a);\n",
              "      a.click();\n",
              "      div.remove();\n",
              "    }\n",
              "  "
            ],
            "text/plain": [
              "<IPython.core.display.Javascript object>"
            ]
          },
          "metadata": {}
        },
        {
          "output_type": "display_data",
          "data": {
            "application/javascript": [
              "download(\"download_a9e26237-247e-4919-a2b4-61c90037dbb4\", \"takedown08112021191834.csv\", 21156)"
            ],
            "text/plain": [
              "<IPython.core.display.Javascript object>"
            ]
          },
          "metadata": {}
        }
      ]
    }
  ]
}